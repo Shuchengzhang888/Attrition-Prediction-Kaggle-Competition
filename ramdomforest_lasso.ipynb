{
 "cells": [
  {
   "cell_type": "code",
   "execution_count": 2,
   "metadata": {},
   "outputs": [],
   "source": [
    "import pandas as pd\n",
    "import numpy as np\n",
    "import matplotlib.pyplot as plt\n",
    "import seaborn as sns"
   ]
  },
  {
   "cell_type": "code",
   "execution_count": 3,
   "metadata": {},
   "outputs": [
    {
     "data": {
      "text/plain": [
       "((1340, 2304), (336, 2304))"
      ]
     },
     "execution_count": 3,
     "metadata": {},
     "output_type": "execute_result"
    }
   ],
   "source": [
    "data_mult = pd.read_csv('mult.csv')\n",
    "data_train = pd.read_csv('train.csv')\n",
    "data_train_len = data_train.shape[0]\n",
    "y = data_train.pop('Attrition')\n",
    "\n",
    "train = data_mult.iloc[:data_train_len, :].to_numpy()\n",
    "test = data_mult.iloc[data_train_len:, :].to_numpy()\n",
    "train.shape, test.shape"
   ]
  },
  {
   "cell_type": "code",
   "execution_count": 4,
   "metadata": {},
   "outputs": [],
   "source": [
    "def y_enco(y):\n",
    "    if y == 'No':\n",
    "        return 0\n",
    "    elif y == 'Yes':\n",
    "        return 1\n",
    "    else:\n",
    "        pass\n",
    "\n",
    "y_encoder = y.apply(y_enco)"
   ]
  },
  {
   "cell_type": "code",
   "execution_count": 5,
   "metadata": {},
   "outputs": [
    {
     "data": {
      "text/plain": [
       "((2115, 2304), (2115,))"
      ]
     },
     "execution_count": 5,
     "metadata": {},
     "output_type": "execute_result"
    }
   ],
   "source": [
    "from imblearn.over_sampling import ADASYN \n",
    "from sklearn.preprocessing import MinMaxScaler\n",
    "from sklearn.model_selection import train_test_split\n",
    "# Data Normalization\n",
    "\n",
    "# ada = ADASYN(random_state=42)\n",
    "# X_res, y_res = ada.fit_resample(X_norm, y_encorder)\n",
    "# X_res.shape\n",
    "\n",
    "X_train, X_test, y_train, y_test = train_test_split(train, y_encoder, test_size=0.1, random_state=42)\n",
    "\n",
    "\n",
    "scaler = MinMaxScaler(feature_range = (0,1))\n",
    "scaler.fit(X_train)\n",
    "X_train_norm = scaler.transform(X_train)\n",
    "\n",
    "\n",
    "ada = ADASYN(random_state=42)\n",
    "X_res, y_res = ada.fit_resample(X_train_norm, y_train)\n",
    "X_res.shape, y_res.shape"
   ]
  },
  {
   "cell_type": "code",
   "execution_count": 6,
   "metadata": {},
   "outputs": [
    {
     "data": {
      "text/plain": [
       "(2115, 319)"
      ]
     },
     "execution_count": 6,
     "metadata": {},
     "output_type": "execute_result"
    }
   ],
   "source": [
    "from sklearn.feature_selection import SelectFromModel\n",
    "from sklearn.linear_model import LogisticRegression\n",
    "\n",
    "select = SelectFromModel(LogisticRegression(C=1, penalty='l1', solver='liblinear'))\n",
    "select.fit(X_res, y_res)\n",
    "X_new = select.transform(X_res)\n",
    "X_new.shape"
   ]
  },
  {
   "cell_type": "code",
   "execution_count": 7,
   "metadata": {},
   "outputs": [
    {
     "name": "stdout",
     "output_type": "stream",
     "text": [
      "====================\n",
      "best params: RandomForestClassifier(bootstrap=False, max_depth=16, min_samples_leaf=2,\n",
      "                       n_estimators=500)\n",
      "best params: {'bootstrap': False, 'max_depth': 16, 'max_features': 'sqrt', 'min_samples_leaf': 2, 'min_samples_split': 2, 'n_estimators': 500}\n",
      "best score: 0.968474304384603\n",
      "====================\n"
     ]
    }
   ],
   "source": [
    "from sklearn.ensemble import RandomForestClassifier\n",
    "from sklearn.preprocessing import MinMaxScaler\n",
    "from sklearn.model_selection import GridSearchCV\n",
    "\n",
    "# # Number of trees in random forest\n",
    "n_estimators = [int(x) for x in np.linspace(start = 500, stop = 1000, num = 6)]\n",
    "# # Number of features to consider at every split\n",
    "max_features = ['sqrt']\n",
    "# # Maximum number of levels in tree\n",
    "max_depth = [int(x) for x in np.linspace(4, 20, num = 9)]\n",
    "# max_depth.append(None)\n",
    "# Minimum number of samples required to split a node\n",
    "min_samples_split = [2]\n",
    "# Minimum number of samples required at each leaf node\n",
    "min_samples_leaf = [2, 4]\n",
    "# # Method of selecting samples for training each tree\n",
    "bootstrap = [False]\n",
    "# # Create the random grid\n",
    "params = {'n_estimators': n_estimators,\n",
    "               'max_features': max_features,\n",
    "               'max_depth': max_depth,\n",
    "               'min_samples_split': min_samples_split,\n",
    "               'min_samples_leaf': min_samples_leaf,\n",
    "               'bootstrap': bootstrap}\n",
    "# params = {'n_estimators': n_estimators,\n",
    "#             'max_depth': max_depth,\n",
    "#             'min_samples_split': min_samples_split,\n",
    "#             'min_samples_leaf': min_samples_leaf}\n",
    "\n",
    "grid_search = GridSearchCV(estimator = RandomForestClassifier(),\n",
    "                           param_grid=params,\n",
    "                           cv = 10,\n",
    "                           n_jobs=-1,\n",
    "                           verbose=0,\n",
    "                           scoring=\"f1\")\n",
    "\n",
    "# Training\n",
    "grid_search.fit(X_new, y_res)\n",
    "\n",
    "# Best Performing Parameter\n",
    "print('='*20)\n",
    "print(\"best params: \" + str(grid_search.best_estimator_))\n",
    "print(\"best params: \" + str(grid_search.best_params_))\n",
    "print('best score:', grid_search.best_score_)\n",
    "print('='*20)"
   ]
  },
  {
   "cell_type": "code",
   "execution_count": 8,
   "metadata": {},
   "outputs": [
    {
     "data": {
      "text/plain": [
       "0.7826086956521738"
      ]
     },
     "execution_count": 8,
     "metadata": {},
     "output_type": "execute_result"
    }
   ],
   "source": [
    "from sklearn.metrics import f1_score\n",
    "\n",
    "X_val_norm = scaler.transform(X_test)\n",
    "X_val_new = select.transform(X_val_norm)\n",
    "\n",
    "y_pred = grid_search.predict(X_val_new)\n",
    "\n",
    "f1_score(y_test, y_pred)"
   ]
  },
  {
   "cell_type": "code",
   "execution_count": 9,
   "metadata": {},
   "outputs": [],
   "source": [
    "X_test_norm = scaler.transform(test)\n",
    "X_test_new = select.transform(X_test_norm)\n",
    "\n",
    "\n",
    "y_pred = grid_search.predict(X_test_new)\n",
    "\n",
    "\n",
    "id = range(0,len(y_pred))\n",
    "y_test = pd.DataFrame()\n",
    "y_test['Id'] = id\n",
    "y_test['Predicted'] = y_pred\n",
    "y_test.to_csv('pred_rf_ad_lasso.csv', index = 0)"
   ]
  },
  {
   "cell_type": "code",
   "execution_count": null,
   "metadata": {},
   "outputs": [],
   "source": []
  }
 ],
 "metadata": {
  "kernelspec": {
   "display_name": "Python 3.9.7 ('base')",
   "language": "python",
   "name": "python3"
  },
  "language_info": {
   "codemirror_mode": {
    "name": "ipython",
    "version": 3
   },
   "file_extension": ".py",
   "mimetype": "text/x-python",
   "name": "python",
   "nbconvert_exporter": "python",
   "pygments_lexer": "ipython3",
   "version": "3.9.7"
  },
  "orig_nbformat": 4,
  "vscode": {
   "interpreter": {
    "hash": "22206c1fa60949d1e01011e2a752496908b73b24bb78e105f5fef6553e40794b"
   }
  }
 },
 "nbformat": 4,
 "nbformat_minor": 2
}
