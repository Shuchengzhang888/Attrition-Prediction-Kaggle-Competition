{
 "cells": [
  {
   "cell_type": "code",
   "execution_count": 1,
   "metadata": {},
   "outputs": [],
   "source": [
    "import pandas as pd\n",
    "import numpy as np\n",
    "import matplotlib.pyplot as plt\n",
    "import seaborn as sns"
   ]
  },
  {
   "cell_type": "code",
   "execution_count": 16,
   "metadata": {},
   "outputs": [],
   "source": [
    "data_train = pd.read_csv('train.csv')\n",
    "data_train_len = data_train.shape[0]\n",
    "data_test = pd.read_csv('test.csv')\n",
    "y = data_train.pop('Attrition')\n",
    "data = pd.concat([data_train, data_test])\n",
    "\n",
    "data = data.drop(columns=['EmployeeID', 'StandardHours', 'Over18', 'EmployeeCount'])\n",
    "data.replace({'JobRole':{'Admin': 'Administrative'}}, inplace=True)\n",
    "# for colname in data.select_dtypes(\"O\"):\n",
    "#     data[colname], _ = data[colname].factorize()\n",
    "data.replace({'Education':{1:'Below_college', 2:'College', 3:'Bachelor', 4:'Masters', 5:'Doctor'}}, inplace=True)\n",
    "data = pd.get_dummies(data)\n",
    "data = data.drop(columns=['Gender_Female','OverTime_No'])\n",
    "\n",
    "train = data.iloc[:data_train_len, :]\n",
    "test = data.iloc[data_train_len:, :]"
   ]
  },
  {
   "cell_type": "code",
   "execution_count": 17,
   "metadata": {},
   "outputs": [],
   "source": [
    "def y_enco(y):\n",
    "    if y == 'No':\n",
    "        return 0\n",
    "    elif y == 'Yes':\n",
    "        return 1\n",
    "    else:\n",
    "        pass\n",
    "\n",
    "y_encoder = y.apply(y_enco)"
   ]
  },
  {
   "cell_type": "code",
   "execution_count": 18,
   "metadata": {},
   "outputs": [
    {
     "data": {
      "text/plain": [
       "((2133, 48), (2133,))"
      ]
     },
     "execution_count": 18,
     "metadata": {},
     "output_type": "execute_result"
    }
   ],
   "source": [
    "from imblearn.over_sampling import ADASYN \n",
    "from sklearn.preprocessing import MinMaxScaler\n",
    "from sklearn.model_selection import train_test_split\n",
    "# Data Normalization\n",
    "\n",
    "# ada = ADASYN(random_state=42)\n",
    "# X_res, y_res = ada.fit_resample(X_norm, y_encorder)\n",
    "# X_res.shape\n",
    "\n",
    "X_train, X_test, y_train, y_test = train_test_split(train, y_encoder, test_size=0.1, random_state=42)\n",
    "\n",
    "\n",
    "scaler = MinMaxScaler(feature_range = (0,1))\n",
    "scaler.fit(X_train)\n",
    "X_train_norm = scaler.transform(X_train)\n",
    "\n",
    "\n",
    "ada = ADASYN(random_state=42)\n",
    "X_res, y_res = ada.fit_resample(X_train_norm, y_train)\n",
    "X_res.shape, y_res.shape"
   ]
  },
  {
   "cell_type": "code",
   "execution_count": 19,
   "metadata": {},
   "outputs": [
    {
     "name": "stdout",
     "output_type": "stream",
     "text": [
      "====================\n",
      "best params: RandomForestClassifier(bootstrap=False, max_depth=20, min_samples_leaf=2,\n",
      "                       n_estimators=1000)\n",
      "best params: {'bootstrap': False, 'max_depth': 20, 'max_features': 'sqrt', 'min_samples_leaf': 2, 'min_samples_split': 2, 'n_estimators': 1000}\n",
      "best score: 0.9721183227034811\n",
      "====================\n"
     ]
    }
   ],
   "source": [
    "from sklearn.ensemble import RandomForestClassifier\n",
    "from sklearn.preprocessing import MinMaxScaler\n",
    "from sklearn.model_selection import GridSearchCV\n",
    "\n",
    "# # Number of trees in random forest\n",
    "n_estimators = [int(x) for x in np.linspace(start = 500, stop = 1000, num = 6)]\n",
    "# # Number of features to consider at every split\n",
    "max_features = ['sqrt']\n",
    "# # Maximum number of levels in tree\n",
    "max_depth = [int(x) for x in np.linspace(4, 20, num = 9)]\n",
    "# max_depth.append(None)\n",
    "# Minimum number of samples required to split a node\n",
    "min_samples_split = [2]\n",
    "# Minimum number of samples required at each leaf node\n",
    "min_samples_leaf = [2, 4]\n",
    "# # Method of selecting samples for training each tree\n",
    "bootstrap = [False]\n",
    "# # Create the random grid\n",
    "params = {'n_estimators': n_estimators,\n",
    "               'max_features': max_features,\n",
    "               'max_depth': max_depth,\n",
    "               'min_samples_split': min_samples_split,\n",
    "               'min_samples_leaf': min_samples_leaf,\n",
    "               'bootstrap': bootstrap}\n",
    "# params = {'n_estimators': n_estimators,\n",
    "#             'max_depth': max_depth,\n",
    "#             'min_samples_split': min_samples_split,\n",
    "#             'min_samples_leaf': min_samples_leaf}\n",
    "\n",
    "grid_search = GridSearchCV(estimator = RandomForestClassifier(),\n",
    "                           param_grid=params,\n",
    "                           cv = 10,\n",
    "                           n_jobs=-1,\n",
    "                           verbose=0,\n",
    "                           scoring=\"f1\")\n",
    "\n",
    "# Training\n",
    "grid_search.fit(X_res, y_res)\n",
    "\n",
    "# Best Performing Parameter\n",
    "print('='*20)\n",
    "print(\"best params: \" + str(grid_search.best_estimator_))\n",
    "print(\"best params: \" + str(grid_search.best_params_))\n",
    "print('best score:', grid_search.best_score_)\n",
    "print('='*20)"
   ]
  },
  {
   "cell_type": "code",
   "execution_count": 20,
   "metadata": {},
   "outputs": [
    {
     "data": {
      "text/plain": [
       "0.7199999999999999"
      ]
     },
     "execution_count": 20,
     "metadata": {},
     "output_type": "execute_result"
    }
   ],
   "source": [
    "from sklearn.metrics import f1_score\n",
    "\n",
    "X_val_norm = scaler.transform(X_test)\n",
    "\n",
    "y_pred = grid_search.predict(X_val_norm)\n",
    "\n",
    "f1_score(y_test, y_pred)"
   ]
  },
  {
   "cell_type": "code",
   "execution_count": 21,
   "metadata": {},
   "outputs": [],
   "source": [
    "X_test_norm = scaler.transform(test)\n",
    "\n",
    "y_pred = grid_search.predict(X_test_norm)\n",
    "\n",
    "id = range(0,len(y_pred))\n",
    "y_test = pd.DataFrame()\n",
    "y_test['Id'] = id\n",
    "y_test['Predicted'] = y_pred\n",
    "y_test.to_csv('pred_rf_ad.csv', index = 0)"
   ]
  },
  {
   "cell_type": "code",
   "execution_count": null,
   "metadata": {},
   "outputs": [],
   "source": []
  }
 ],
 "metadata": {
  "kernelspec": {
   "display_name": "Python 3.9.7 ('base')",
   "language": "python",
   "name": "python3"
  },
  "language_info": {
   "codemirror_mode": {
    "name": "ipython",
    "version": 3
   },
   "file_extension": ".py",
   "mimetype": "text/x-python",
   "name": "python",
   "nbconvert_exporter": "python",
   "pygments_lexer": "ipython3",
   "version": "3.9.7"
  },
  "orig_nbformat": 4,
  "vscode": {
   "interpreter": {
    "hash": "22206c1fa60949d1e01011e2a752496908b73b24bb78e105f5fef6553e40794b"
   }
  }
 },
 "nbformat": 4,
 "nbformat_minor": 2
}
